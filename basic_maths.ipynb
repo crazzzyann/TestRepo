{
 "cells": [
  {
   "cell_type": "code",
   "execution_count": 2,
   "id": "647c5bc3-c9e5-4bd3-bc1d-ba768d856dec",
   "metadata": {},
   "outputs": [],
   "source": [
    "#Lets do some basic maths\n",
    "a = b + c #addition"
   ]
  },
  {
   "cell_type": "code",
   "execution_count": 3,
   "id": "ba07f4dc-2257-48d0-92f1-4152454f7153",
   "metadata": {},
   "outputs": [],
   "source": [
    "b = 5\n",
    "c = 6"
   ]
  },
  {
   "cell_type": "code",
   "execution_count": 4,
   "id": "ead616dd-69a6-43f8-9f62-ff5c875dd936",
   "metadata": {},
   "outputs": [
    {
     "data": {
      "text/plain": [
       "11"
      ]
     },
     "execution_count": 4,
     "metadata": {},
     "output_type": "execute_result"
    }
   ],
   "source": [
    "a"
   ]
  },
  {
   "cell_type": "code",
   "execution_count": null,
   "id": "d680966a-78cb-4394-aabb-5147a07a3adb",
   "metadata": {},
   "outputs": [],
   "source": [
    "### Hurray . Please add furthe basic maths to this notebook"
   ]
  }
 ],
 "metadata": {
  "kernelspec": {
   "display_name": "Python 3 (ipykernel)",
   "language": "python",
   "name": "python3"
  },
  "language_info": {
   "codemirror_mode": {
    "name": "ipython",
    "version": 3
   },
   "file_extension": ".py",
   "mimetype": "text/x-python",
   "name": "python",
   "nbconvert_exporter": "python",
   "pygments_lexer": "ipython3",
   "version": "3.10.1"
  }
 },
 "nbformat": 4,
 "nbformat_minor": 5
}
